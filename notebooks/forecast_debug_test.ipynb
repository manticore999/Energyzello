{
 "cells": [
  {
   "cell_type": "markdown",
   "id": "ca2ad16e",
   "metadata": {},
   "source": [
    "# Forecast Debugging: AEP_hourly Dataset\n",
    "\n",
    "This notebook tests time series forecasting (ARIMA, SARIMA, RandomForest, Naive) using the AEP_hourly dataset. It is designed to help debug and identify issues in the forecasting pipeline.\n",
    "\n",
    "**Outline:**\n",
    "1. Import Required Libraries\n",
    "2. Load and Inspect AEP_hourly Dataset\n",
    "3. Preprocess Data for Forecasting\n",
    "4. Visualize Time Series Data\n",
    "5. Split Data into Train and Test Sets\n",
    "6. Build and Fit Forecasting Models\n",
    "7. Generate Forecasts\n",
    "8. Evaluate Forecast Accuracy\n",
    "9. Display Errors and Diagnostics\n"
   ]
  },
  {
   "cell_type": "code",
   "execution_count": 2,
   "id": "a6d310e0",
   "metadata": {},
   "outputs": [],
   "source": [
    "# 1. Import Required Libraries\n",
    "import pandas as pd\n",
    "import numpy as np\n",
    "import matplotlib.pyplot as plt\n",
    "from statsmodels.tsa.arima.model import ARIMA\n",
    "from statsmodels.tsa.statespace.sarimax import SARIMAX\n",
    "from sklearn.ensemble import RandomForestRegressor\n",
    "from sklearn.metrics import mean_absolute_error, mean_squared_error\n",
    "import warnings\n",
    "warnings.filterwarnings('ignore')\n"
   ]
  },
  {
   "cell_type": "code",
   "execution_count": 3,
   "id": "d2054956",
   "metadata": {},
   "outputs": [
    {
     "name": "stdout",
     "output_type": "stream",
     "text": [
      "Shape: (121273, 2)\n"
     ]
    },
    {
     "data": {
      "text/html": [
       "<div>\n",
       "<style scoped>\n",
       "    .dataframe tbody tr th:only-of-type {\n",
       "        vertical-align: middle;\n",
       "    }\n",
       "\n",
       "    .dataframe tbody tr th {\n",
       "        vertical-align: top;\n",
       "    }\n",
       "\n",
       "    .dataframe thead th {\n",
       "        text-align: right;\n",
       "    }\n",
       "</style>\n",
       "<table border=\"1\" class=\"dataframe\">\n",
       "  <thead>\n",
       "    <tr style=\"text-align: right;\">\n",
       "      <th></th>\n",
       "      <th>Datetime</th>\n",
       "      <th>AEP_MW</th>\n",
       "    </tr>\n",
       "  </thead>\n",
       "  <tbody>\n",
       "    <tr>\n",
       "      <th>0</th>\n",
       "      <td>2004-12-31 01:00:00</td>\n",
       "      <td>13478.0</td>\n",
       "    </tr>\n",
       "    <tr>\n",
       "      <th>1</th>\n",
       "      <td>2004-12-31 02:00:00</td>\n",
       "      <td>12865.0</td>\n",
       "    </tr>\n",
       "    <tr>\n",
       "      <th>2</th>\n",
       "      <td>2004-12-31 03:00:00</td>\n",
       "      <td>12577.0</td>\n",
       "    </tr>\n",
       "    <tr>\n",
       "      <th>3</th>\n",
       "      <td>2004-12-31 04:00:00</td>\n",
       "      <td>12517.0</td>\n",
       "    </tr>\n",
       "    <tr>\n",
       "      <th>4</th>\n",
       "      <td>2004-12-31 05:00:00</td>\n",
       "      <td>12670.0</td>\n",
       "    </tr>\n",
       "  </tbody>\n",
       "</table>\n",
       "</div>"
      ],
      "text/plain": [
       "              Datetime   AEP_MW\n",
       "0  2004-12-31 01:00:00  13478.0\n",
       "1  2004-12-31 02:00:00  12865.0\n",
       "2  2004-12-31 03:00:00  12577.0\n",
       "3  2004-12-31 04:00:00  12517.0\n",
       "4  2004-12-31 05:00:00  12670.0"
      ]
     },
     "metadata": {},
     "output_type": "display_data"
    },
    {
     "name": "stdout",
     "output_type": "stream",
     "text": [
      "Missing values per column:\n",
      "Datetime    0\n",
      "AEP_MW      0\n",
      "dtype: int64\n"
     ]
    }
   ],
   "source": [
    "# 2. Load and Inspect AEP_hourly Dataset\n",
    "DATASET_PATH = '../AEP_hourly.csv'  # Adjust path if needed\n",
    "\n",
    "df = pd.read_csv(DATASET_PATH)\n",
    "print('Shape:', df.shape)\n",
    "display(df.head())\n",
    "print('Missing values per column:')\n",
    "print(df.isnull().sum())"
   ]
  },
  {
   "cell_type": "code",
   "execution_count": 4,
   "id": "7142ce03",
   "metadata": {},
   "outputs": [
    {
     "name": "stdout",
     "output_type": "stream",
     "text": [
      "Before dropna: (121273, 4)\n",
      "After dropna: (121273, 4)\n"
     ]
    },
    {
     "data": {
      "text/html": [
       "<div>\n",
       "<style scoped>\n",
       "    .dataframe tbody tr th:only-of-type {\n",
       "        vertical-align: middle;\n",
       "    }\n",
       "\n",
       "    .dataframe tbody tr th {\n",
       "        vertical-align: top;\n",
       "    }\n",
       "\n",
       "    .dataframe thead th {\n",
       "        text-align: right;\n",
       "    }\n",
       "</style>\n",
       "<table border=\"1\" class=\"dataframe\">\n",
       "  <thead>\n",
       "    <tr style=\"text-align: right;\">\n",
       "      <th></th>\n",
       "      <th>Datetime</th>\n",
       "      <th>AEP_MW</th>\n",
       "      <th>consumption</th>\n",
       "    </tr>\n",
       "    <tr>\n",
       "      <th>datetime</th>\n",
       "      <th></th>\n",
       "      <th></th>\n",
       "      <th></th>\n",
       "    </tr>\n",
       "  </thead>\n",
       "  <tbody>\n",
       "    <tr>\n",
       "      <th>2004-10-01 01:00:00</th>\n",
       "      <td>2004-10-01 01:00:00</td>\n",
       "      <td>12379.0</td>\n",
       "      <td>12379.0</td>\n",
       "    </tr>\n",
       "    <tr>\n",
       "      <th>2004-10-01 02:00:00</th>\n",
       "      <td>2004-10-01 02:00:00</td>\n",
       "      <td>11935.0</td>\n",
       "      <td>11935.0</td>\n",
       "    </tr>\n",
       "    <tr>\n",
       "      <th>2004-10-01 03:00:00</th>\n",
       "      <td>2004-10-01 03:00:00</td>\n",
       "      <td>11692.0</td>\n",
       "      <td>11692.0</td>\n",
       "    </tr>\n",
       "    <tr>\n",
       "      <th>2004-10-01 04:00:00</th>\n",
       "      <td>2004-10-01 04:00:00</td>\n",
       "      <td>11597.0</td>\n",
       "      <td>11597.0</td>\n",
       "    </tr>\n",
       "    <tr>\n",
       "      <th>2004-10-01 05:00:00</th>\n",
       "      <td>2004-10-01 05:00:00</td>\n",
       "      <td>11681.0</td>\n",
       "      <td>11681.0</td>\n",
       "    </tr>\n",
       "  </tbody>\n",
       "</table>\n",
       "</div>"
      ],
      "text/plain": [
       "                                Datetime   AEP_MW  consumption\n",
       "datetime                                                      \n",
       "2004-10-01 01:00:00  2004-10-01 01:00:00  12379.0      12379.0\n",
       "2004-10-01 02:00:00  2004-10-01 02:00:00  11935.0      11935.0\n",
       "2004-10-01 03:00:00  2004-10-01 03:00:00  11692.0      11692.0\n",
       "2004-10-01 04:00:00  2004-10-01 04:00:00  11597.0      11597.0\n",
       "2004-10-01 05:00:00  2004-10-01 05:00:00  11681.0      11681.0"
      ]
     },
     "metadata": {},
     "output_type": "display_data"
    }
   ],
   "source": [
    "# 3. Preprocess Data for Forecasting\n",
    "# Try to detect datetime and target columns\n",
    "if 'Datetime' in df.columns:\n",
    "    df['datetime'] = pd.to_datetime(df['Datetime'])\n",
    "elif 'datetime' in df.columns:\n",
    "    df['datetime'] = pd.to_datetime(df['datetime'])\n",
    "else:\n",
    "    # Try to auto-detect\n",
    "    for col in df.columns:\n",
    "        if 'date' in col.lower() or 'time' in col.lower():\n",
    "            df['datetime'] = pd.to_datetime(df[col])\n",
    "            break\n",
    "if 'AEP_MW' in df.columns:\n",
    "    df['consumption'] = pd.to_numeric(df['AEP_MW'], errors='coerce')\n",
    "else:\n",
    "    # Try to auto-detect\n",
    "    for col in df.columns:\n",
    "        if df[col].dtype in [np.float64, np.int64]:\n",
    "            df['consumption'] = pd.to_numeric(df[col], errors='coerce')\n",
    "            break\n",
    "# Drop rows with missing datetime or consumption\n",
    "print('Before dropna:', df.shape)\n",
    "df = df.dropna(subset=['datetime', 'consumption'])\n",
    "print('After dropna:', df.shape)\n",
    "df = df.set_index('datetime').sort_index()\n",
    "display(df.head())\n"
   ]
  },
  {
   "cell_type": "code",
   "execution_count": null,
   "id": "4cc60ca2",
   "metadata": {},
   "outputs": [],
   "source": [
    "# 4. Visualize Time Series Data\n",
    "plt.figure(figsize=(15,4))\n",
    "plt.plot(df.index, df['consumption'], label='Consumption')\n",
    "plt.title('AEP Hourly Consumption Over Time')\n",
    "plt.xlabel('Datetime')\n",
    "plt.ylabel('Consumption (MW)')\n",
    "plt.legend()\n",
    "plt.tight_layout()\n",
    "plt.show()\n"
   ]
  },
  {
   "cell_type": "code",
   "execution_count": 5,
   "id": "b879e3ea",
   "metadata": {},
   "outputs": [
    {
     "name": "stdout",
     "output_type": "stream",
     "text": [
      "Train shape: (97018, 3), Test shape: (24255, 3)\n"
     ]
    }
   ],
   "source": [
    "# 5. Split Data into Train and Test Sets\n",
    "# Use last 20% for test\n",
    "split_idx = int(len(df) * 0.8)\n",
    "train, test = df.iloc[:split_idx], df.iloc[split_idx:]\n",
    "print(f'Train shape: {train.shape}, Test shape: {test.shape}')\n"
   ]
  },
  {
   "cell_type": "code",
   "execution_count": 6,
   "id": "af92d628",
   "metadata": {},
   "outputs": [
    {
     "name": "stdout",
     "output_type": "stream",
     "text": [
      "ARIMA fitted.\n",
      "SARIMA fitted.\n",
      "SARIMA fitted.\n",
      "RandomForest fitted.\n",
      "Naive model ready.\n",
      "RandomForest fitted.\n",
      "Naive model ready.\n"
     ]
    }
   ],
   "source": [
    "# 6. Build and Fit Forecasting Models\n",
    "models = {}\n",
    "errors = {}\n",
    "\n",
    "# ARIMA\n",
    "try:\n",
    "    arima_model = ARIMA(train['consumption'], order=(1,1,1)).fit()\n",
    "    models['ARIMA'] = arima_model\n",
    "    print('ARIMA fitted.')\n",
    "except Exception as e:\n",
    "    errors['ARIMA'] = str(e)\n",
    "    print('ARIMA error:', e)\n",
    "\n",
    "# SARIMA\n",
    "try:\n",
    "    sarima_model = SARIMAX(train['consumption'], order=(1,1,1), seasonal_order=(1,1,1,24)).fit(disp=False)\n",
    "    models['SARIMA'] = sarima_model\n",
    "    print('SARIMA fitted.')\n",
    "except Exception as e:\n",
    "    errors['SARIMA'] = str(e)\n",
    "    print('SARIMA error:', e)\n",
    "\n",
    "# RandomForest (with lag features)\n",
    "try:\n",
    "    train_rf = train.copy()\n",
    "    train_rf['lag1'] = train_rf['consumption'].shift(1)\n",
    "    train_rf = train_rf.dropna()\n",
    "    X_train_rf = train_rf[['lag1']]\n",
    "    y_train_rf = train_rf['consumption']\n",
    "    rf_model = RandomForestRegressor(n_estimators=100, random_state=42)\n",
    "    rf_model.fit(X_train_rf, y_train_rf)\n",
    "    models['RandomForest'] = rf_model\n",
    "    print('RandomForest fitted.')\n",
    "except Exception as e:\n",
    "    errors['RandomForest'] = str(e)\n",
    "    print('RandomForest error:', e)\n",
    "\n",
    "# Naive (no fitting needed)\n",
    "models['Naive'] = train['consumption'].iloc[-1]\n",
    "print('Naive model ready.')\n"
   ]
  },
  {
   "cell_type": "code",
   "execution_count": 7,
   "id": "646a8a2a",
   "metadata": {},
   "outputs": [
    {
     "name": "stdout",
     "output_type": "stream",
     "text": [
      "ARIMA forecast sample: 97018    14649.336411\n",
      "97019    14524.360082\n",
      "97020    14441.130923\n",
      "97021    14385.703684\n",
      "97022    14348.791393\n",
      "Name: predicted_mean, dtype: float64\n",
      "SARIMA forecast sample: 97018    14840.417175\n",
      "97019    14836.242516\n",
      "97020    14729.832404\n",
      "97021    14684.234888\n",
      "97022    14576.576433\n",
      "Name: predicted_mean, dtype: float64\n",
      "SARIMA forecast sample: 97018    14840.417175\n",
      "97019    14836.242516\n",
      "97020    14729.832404\n",
      "97021    14684.234888\n",
      "97022    14576.576433\n",
      "Name: predicted_mean, dtype: float64\n",
      "RandomForest forecast sample: [15199.13986335 14606.51398946 14687.9936692  14585.63751563\n",
      " 14799.35929133]\n",
      "Naive forecast sample: [14837.0, 14837.0, 14837.0, 14837.0, 14837.0]\n",
      "RandomForest forecast sample: [15199.13986335 14606.51398946 14687.9936692  14585.63751563\n",
      " 14799.35929133]\n",
      "Naive forecast sample: [14837.0, 14837.0, 14837.0, 14837.0, 14837.0]\n"
     ]
    }
   ],
   "source": [
    "# 7. Generate Forecasts\n",
    "forecast_results = {}\n",
    "\n",
    "# ARIMA\n",
    "if 'ARIMA' in models:\n",
    "    try:\n",
    "        arima_pred = models['ARIMA'].forecast(len(test))\n",
    "        forecast_results['ARIMA'] = arima_pred\n",
    "        print('ARIMA forecast sample:', arima_pred[:5])\n",
    "    except Exception as e:\n",
    "        errors['ARIMA_forecast'] = str(e)\n",
    "        print('ARIMA forecast error:', e)\n",
    "\n",
    "# SARIMA\n",
    "if 'SARIMA' in models:\n",
    "    try:\n",
    "        sarima_pred = models['SARIMA'].forecast(len(test))\n",
    "        forecast_results['SARIMA'] = sarima_pred\n",
    "        print('SARIMA forecast sample:', sarima_pred[:5])\n",
    "    except Exception as e:\n",
    "        errors['SARIMA_forecast'] = str(e)\n",
    "        print('SARIMA forecast error:', e)\n",
    "\n",
    "# RandomForest\n",
    "if 'RandomForest' in models:\n",
    "    try:\n",
    "        test_rf = test.copy()\n",
    "        test_rf['lag1'] = test_rf['consumption'].shift(1)\n",
    "        test_rf = test_rf.dropna()\n",
    "        X_test_rf = test_rf[['lag1']]\n",
    "        rf_pred = models['RandomForest'].predict(X_test_rf)\n",
    "        forecast_results['RandomForest'] = pd.Series(rf_pred, index=X_test_rf.index)\n",
    "        print('RandomForest forecast sample:', rf_pred[:5])\n",
    "    except Exception as e:\n",
    "        errors['RandomForest_forecast'] = str(e)\n",
    "        print('RandomForest forecast error:', e)\n",
    "\n",
    "# Naive\n",
    "try:\n",
    "    naive_pred = [models['Naive']] * len(test)\n",
    "    forecast_results['Naive'] = pd.Series(naive_pred, index=test.index)\n",
    "    print('Naive forecast sample:', naive_pred[:5])\n",
    "except Exception as e:\n",
    "    errors['Naive_forecast'] = str(e)\n",
    "    print('Naive forecast error:', e)\n"
   ]
  },
  {
   "cell_type": "code",
   "execution_count": 8,
   "id": "f345415a",
   "metadata": {},
   "outputs": [
    {
     "ename": "KeyError",
     "evalue": "\"None of [Index([ 97018,  97019,  97020,  97021,  97022,  97023,  97024,  97025,  97026,\\n        97027,\\n       ...\\n       121263, 121264, 121265, 121266, 121267, 121268, 121269, 121270, 121271,\\n       121272],\\n      dtype='object', name='datetime', length=24255)] are in the [index]\"",
     "output_type": "error",
     "traceback": [
      "\u001b[1;31m---------------------------------------------------------------------------\u001b[0m",
      "\u001b[1;31mKeyError\u001b[0m                                  Traceback (most recent call last)",
      "Cell \u001b[1;32mIn[8], line 5\u001b[0m\n\u001b[0;32m      2\u001b[0m \u001b[38;5;28;01mfor\u001b[39;00m model, pred \u001b[38;5;129;01min\u001b[39;00m forecast_results\u001b[38;5;241m.\u001b[39mitems():\n\u001b[0;32m      3\u001b[0m     \u001b[38;5;66;03m# Align prediction and test\u001b[39;00m\n\u001b[0;32m      4\u001b[0m     \u001b[38;5;28;01mif\u001b[39;00m \u001b[38;5;28misinstance\u001b[39m(pred, pd\u001b[38;5;241m.\u001b[39mSeries):\n\u001b[1;32m----> 5\u001b[0m         y_true \u001b[38;5;241m=\u001b[39m \u001b[43mtest\u001b[49m\u001b[38;5;241;43m.\u001b[39;49m\u001b[43mloc\u001b[49m\u001b[43m[\u001b[49m\u001b[43mpred\u001b[49m\u001b[38;5;241;43m.\u001b[39;49m\u001b[43mindex\u001b[49m\u001b[43m,\u001b[49m\u001b[43m \u001b[49m\u001b[38;5;124;43m'\u001b[39;49m\u001b[38;5;124;43mconsumption\u001b[39;49m\u001b[38;5;124;43m'\u001b[39;49m\u001b[43m]\u001b[49m\n\u001b[0;32m      6\u001b[0m         y_pred \u001b[38;5;241m=\u001b[39m pred\n\u001b[0;32m      7\u001b[0m     \u001b[38;5;28;01melse\u001b[39;00m:\n",
      "File \u001b[1;32mc:\\Users\\HAMZA\\.conda\\envs\\cuda_test\\lib\\site-packages\\pandas\\core\\indexing.py:1184\u001b[0m, in \u001b[0;36m_LocationIndexer.__getitem__\u001b[1;34m(self, key)\u001b[0m\n\u001b[0;32m   1182\u001b[0m     \u001b[38;5;28;01mif\u001b[39;00m \u001b[38;5;28mself\u001b[39m\u001b[38;5;241m.\u001b[39m_is_scalar_access(key):\n\u001b[0;32m   1183\u001b[0m         \u001b[38;5;28;01mreturn\u001b[39;00m \u001b[38;5;28mself\u001b[39m\u001b[38;5;241m.\u001b[39mobj\u001b[38;5;241m.\u001b[39m_get_value(\u001b[38;5;241m*\u001b[39mkey, takeable\u001b[38;5;241m=\u001b[39m\u001b[38;5;28mself\u001b[39m\u001b[38;5;241m.\u001b[39m_takeable)\n\u001b[1;32m-> 1184\u001b[0m     \u001b[38;5;28;01mreturn\u001b[39;00m \u001b[38;5;28;43mself\u001b[39;49m\u001b[38;5;241;43m.\u001b[39;49m\u001b[43m_getitem_tuple\u001b[49m\u001b[43m(\u001b[49m\u001b[43mkey\u001b[49m\u001b[43m)\u001b[49m\n\u001b[0;32m   1185\u001b[0m \u001b[38;5;28;01melse\u001b[39;00m:\n\u001b[0;32m   1186\u001b[0m     \u001b[38;5;66;03m# we by definition only have the 0th axis\u001b[39;00m\n\u001b[0;32m   1187\u001b[0m     axis \u001b[38;5;241m=\u001b[39m \u001b[38;5;28mself\u001b[39m\u001b[38;5;241m.\u001b[39maxis \u001b[38;5;129;01mor\u001b[39;00m \u001b[38;5;241m0\u001b[39m\n",
      "File \u001b[1;32mc:\\Users\\HAMZA\\.conda\\envs\\cuda_test\\lib\\site-packages\\pandas\\core\\indexing.py:1368\u001b[0m, in \u001b[0;36m_LocIndexer._getitem_tuple\u001b[1;34m(self, tup)\u001b[0m\n\u001b[0;32m   1366\u001b[0m \u001b[38;5;28;01mwith\u001b[39;00m suppress(IndexingError):\n\u001b[0;32m   1367\u001b[0m     tup \u001b[38;5;241m=\u001b[39m \u001b[38;5;28mself\u001b[39m\u001b[38;5;241m.\u001b[39m_expand_ellipsis(tup)\n\u001b[1;32m-> 1368\u001b[0m     \u001b[38;5;28;01mreturn\u001b[39;00m \u001b[38;5;28;43mself\u001b[39;49m\u001b[38;5;241;43m.\u001b[39;49m\u001b[43m_getitem_lowerdim\u001b[49m\u001b[43m(\u001b[49m\u001b[43mtup\u001b[49m\u001b[43m)\u001b[49m\n\u001b[0;32m   1370\u001b[0m \u001b[38;5;66;03m# no multi-index, so validate all of the indexers\u001b[39;00m\n\u001b[0;32m   1371\u001b[0m tup \u001b[38;5;241m=\u001b[39m \u001b[38;5;28mself\u001b[39m\u001b[38;5;241m.\u001b[39m_validate_tuple_indexer(tup)\n",
      "File \u001b[1;32mc:\\Users\\HAMZA\\.conda\\envs\\cuda_test\\lib\\site-packages\\pandas\\core\\indexing.py:1089\u001b[0m, in \u001b[0;36m_LocationIndexer._getitem_lowerdim\u001b[1;34m(self, tup)\u001b[0m\n\u001b[0;32m   1087\u001b[0m             \u001b[38;5;28;01mreturn\u001b[39;00m section\n\u001b[0;32m   1088\u001b[0m         \u001b[38;5;66;03m# This is an elided recursive call to iloc/loc\u001b[39;00m\n\u001b[1;32m-> 1089\u001b[0m         \u001b[38;5;28;01mreturn\u001b[39;00m \u001b[38;5;28;43mgetattr\u001b[39;49m\u001b[43m(\u001b[49m\u001b[43msection\u001b[49m\u001b[43m,\u001b[49m\u001b[43m \u001b[49m\u001b[38;5;28;43mself\u001b[39;49m\u001b[38;5;241;43m.\u001b[39;49m\u001b[43mname\u001b[49m\u001b[43m)\u001b[49m\u001b[43m[\u001b[49m\u001b[43mnew_key\u001b[49m\u001b[43m]\u001b[49m\n\u001b[0;32m   1091\u001b[0m \u001b[38;5;28;01mraise\u001b[39;00m IndexingError(\u001b[38;5;124m\"\u001b[39m\u001b[38;5;124mnot applicable\u001b[39m\u001b[38;5;124m\"\u001b[39m)\n",
      "File \u001b[1;32mc:\\Users\\HAMZA\\.conda\\envs\\cuda_test\\lib\\site-packages\\pandas\\core\\indexing.py:1191\u001b[0m, in \u001b[0;36m_LocationIndexer.__getitem__\u001b[1;34m(self, key)\u001b[0m\n\u001b[0;32m   1189\u001b[0m maybe_callable \u001b[38;5;241m=\u001b[39m com\u001b[38;5;241m.\u001b[39mapply_if_callable(key, \u001b[38;5;28mself\u001b[39m\u001b[38;5;241m.\u001b[39mobj)\n\u001b[0;32m   1190\u001b[0m maybe_callable \u001b[38;5;241m=\u001b[39m \u001b[38;5;28mself\u001b[39m\u001b[38;5;241m.\u001b[39m_check_deprecated_callable_usage(key, maybe_callable)\n\u001b[1;32m-> 1191\u001b[0m \u001b[38;5;28;01mreturn\u001b[39;00m \u001b[38;5;28;43mself\u001b[39;49m\u001b[38;5;241;43m.\u001b[39;49m\u001b[43m_getitem_axis\u001b[49m\u001b[43m(\u001b[49m\u001b[43mmaybe_callable\u001b[49m\u001b[43m,\u001b[49m\u001b[43m \u001b[49m\u001b[43maxis\u001b[49m\u001b[38;5;241;43m=\u001b[39;49m\u001b[43maxis\u001b[49m\u001b[43m)\u001b[49m\n",
      "File \u001b[1;32mc:\\Users\\HAMZA\\.conda\\envs\\cuda_test\\lib\\site-packages\\pandas\\core\\indexing.py:1420\u001b[0m, in \u001b[0;36m_LocIndexer._getitem_axis\u001b[1;34m(self, key, axis)\u001b[0m\n\u001b[0;32m   1417\u001b[0m     \u001b[38;5;28;01mif\u001b[39;00m \u001b[38;5;28mhasattr\u001b[39m(key, \u001b[38;5;124m\"\u001b[39m\u001b[38;5;124mndim\u001b[39m\u001b[38;5;124m\"\u001b[39m) \u001b[38;5;129;01mand\u001b[39;00m key\u001b[38;5;241m.\u001b[39mndim \u001b[38;5;241m>\u001b[39m \u001b[38;5;241m1\u001b[39m:\n\u001b[0;32m   1418\u001b[0m         \u001b[38;5;28;01mraise\u001b[39;00m \u001b[38;5;167;01mValueError\u001b[39;00m(\u001b[38;5;124m\"\u001b[39m\u001b[38;5;124mCannot index with multidimensional key\u001b[39m\u001b[38;5;124m\"\u001b[39m)\n\u001b[1;32m-> 1420\u001b[0m     \u001b[38;5;28;01mreturn\u001b[39;00m \u001b[38;5;28;43mself\u001b[39;49m\u001b[38;5;241;43m.\u001b[39;49m\u001b[43m_getitem_iterable\u001b[49m\u001b[43m(\u001b[49m\u001b[43mkey\u001b[49m\u001b[43m,\u001b[49m\u001b[43m \u001b[49m\u001b[43maxis\u001b[49m\u001b[38;5;241;43m=\u001b[39;49m\u001b[43maxis\u001b[49m\u001b[43m)\u001b[49m\n\u001b[0;32m   1422\u001b[0m \u001b[38;5;66;03m# nested tuple slicing\u001b[39;00m\n\u001b[0;32m   1423\u001b[0m \u001b[38;5;28;01mif\u001b[39;00m is_nested_tuple(key, labels):\n",
      "File \u001b[1;32mc:\\Users\\HAMZA\\.conda\\envs\\cuda_test\\lib\\site-packages\\pandas\\core\\indexing.py:1360\u001b[0m, in \u001b[0;36m_LocIndexer._getitem_iterable\u001b[1;34m(self, key, axis)\u001b[0m\n\u001b[0;32m   1357\u001b[0m \u001b[38;5;28mself\u001b[39m\u001b[38;5;241m.\u001b[39m_validate_key(key, axis)\n\u001b[0;32m   1359\u001b[0m \u001b[38;5;66;03m# A collection of keys\u001b[39;00m\n\u001b[1;32m-> 1360\u001b[0m keyarr, indexer \u001b[38;5;241m=\u001b[39m \u001b[38;5;28;43mself\u001b[39;49m\u001b[38;5;241;43m.\u001b[39;49m\u001b[43m_get_listlike_indexer\u001b[49m\u001b[43m(\u001b[49m\u001b[43mkey\u001b[49m\u001b[43m,\u001b[49m\u001b[43m \u001b[49m\u001b[43maxis\u001b[49m\u001b[43m)\u001b[49m\n\u001b[0;32m   1361\u001b[0m \u001b[38;5;28;01mreturn\u001b[39;00m \u001b[38;5;28mself\u001b[39m\u001b[38;5;241m.\u001b[39mobj\u001b[38;5;241m.\u001b[39m_reindex_with_indexers(\n\u001b[0;32m   1362\u001b[0m     {axis: [keyarr, indexer]}, copy\u001b[38;5;241m=\u001b[39m\u001b[38;5;28;01mTrue\u001b[39;00m, allow_dups\u001b[38;5;241m=\u001b[39m\u001b[38;5;28;01mTrue\u001b[39;00m\n\u001b[0;32m   1363\u001b[0m )\n",
      "File \u001b[1;32mc:\\Users\\HAMZA\\.conda\\envs\\cuda_test\\lib\\site-packages\\pandas\\core\\indexing.py:1558\u001b[0m, in \u001b[0;36m_LocIndexer._get_listlike_indexer\u001b[1;34m(self, key, axis)\u001b[0m\n\u001b[0;32m   1555\u001b[0m ax \u001b[38;5;241m=\u001b[39m \u001b[38;5;28mself\u001b[39m\u001b[38;5;241m.\u001b[39mobj\u001b[38;5;241m.\u001b[39m_get_axis(axis)\n\u001b[0;32m   1556\u001b[0m axis_name \u001b[38;5;241m=\u001b[39m \u001b[38;5;28mself\u001b[39m\u001b[38;5;241m.\u001b[39mobj\u001b[38;5;241m.\u001b[39m_get_axis_name(axis)\n\u001b[1;32m-> 1558\u001b[0m keyarr, indexer \u001b[38;5;241m=\u001b[39m \u001b[43max\u001b[49m\u001b[38;5;241;43m.\u001b[39;49m\u001b[43m_get_indexer_strict\u001b[49m\u001b[43m(\u001b[49m\u001b[43mkey\u001b[49m\u001b[43m,\u001b[49m\u001b[43m \u001b[49m\u001b[43maxis_name\u001b[49m\u001b[43m)\u001b[49m\n\u001b[0;32m   1560\u001b[0m \u001b[38;5;28;01mreturn\u001b[39;00m keyarr, indexer\n",
      "File \u001b[1;32mc:\\Users\\HAMZA\\.conda\\envs\\cuda_test\\lib\\site-packages\\pandas\\core\\indexes\\base.py:6200\u001b[0m, in \u001b[0;36mIndex._get_indexer_strict\u001b[1;34m(self, key, axis_name)\u001b[0m\n\u001b[0;32m   6197\u001b[0m \u001b[38;5;28;01melse\u001b[39;00m:\n\u001b[0;32m   6198\u001b[0m     keyarr, indexer, new_indexer \u001b[38;5;241m=\u001b[39m \u001b[38;5;28mself\u001b[39m\u001b[38;5;241m.\u001b[39m_reindex_non_unique(keyarr)\n\u001b[1;32m-> 6200\u001b[0m \u001b[38;5;28;43mself\u001b[39;49m\u001b[38;5;241;43m.\u001b[39;49m\u001b[43m_raise_if_missing\u001b[49m\u001b[43m(\u001b[49m\u001b[43mkeyarr\u001b[49m\u001b[43m,\u001b[49m\u001b[43m \u001b[49m\u001b[43mindexer\u001b[49m\u001b[43m,\u001b[49m\u001b[43m \u001b[49m\u001b[43maxis_name\u001b[49m\u001b[43m)\u001b[49m\n\u001b[0;32m   6202\u001b[0m keyarr \u001b[38;5;241m=\u001b[39m \u001b[38;5;28mself\u001b[39m\u001b[38;5;241m.\u001b[39mtake(indexer)\n\u001b[0;32m   6203\u001b[0m \u001b[38;5;28;01mif\u001b[39;00m \u001b[38;5;28misinstance\u001b[39m(key, Index):\n\u001b[0;32m   6204\u001b[0m     \u001b[38;5;66;03m# GH 42790 - Preserve name from an Index\u001b[39;00m\n",
      "File \u001b[1;32mc:\\Users\\HAMZA\\.conda\\envs\\cuda_test\\lib\\site-packages\\pandas\\core\\indexes\\base.py:6249\u001b[0m, in \u001b[0;36mIndex._raise_if_missing\u001b[1;34m(self, key, indexer, axis_name)\u001b[0m\n\u001b[0;32m   6247\u001b[0m \u001b[38;5;28;01mif\u001b[39;00m nmissing:\n\u001b[0;32m   6248\u001b[0m     \u001b[38;5;28;01mif\u001b[39;00m nmissing \u001b[38;5;241m==\u001b[39m \u001b[38;5;28mlen\u001b[39m(indexer):\n\u001b[1;32m-> 6249\u001b[0m         \u001b[38;5;28;01mraise\u001b[39;00m \u001b[38;5;167;01mKeyError\u001b[39;00m(\u001b[38;5;124mf\u001b[39m\u001b[38;5;124m\"\u001b[39m\u001b[38;5;124mNone of [\u001b[39m\u001b[38;5;132;01m{\u001b[39;00mkey\u001b[38;5;132;01m}\u001b[39;00m\u001b[38;5;124m] are in the [\u001b[39m\u001b[38;5;132;01m{\u001b[39;00maxis_name\u001b[38;5;132;01m}\u001b[39;00m\u001b[38;5;124m]\u001b[39m\u001b[38;5;124m\"\u001b[39m)\n\u001b[0;32m   6251\u001b[0m     not_found \u001b[38;5;241m=\u001b[39m \u001b[38;5;28mlist\u001b[39m(ensure_index(key)[missing_mask\u001b[38;5;241m.\u001b[39mnonzero()[\u001b[38;5;241m0\u001b[39m]]\u001b[38;5;241m.\u001b[39munique())\n\u001b[0;32m   6252\u001b[0m     \u001b[38;5;28;01mraise\u001b[39;00m \u001b[38;5;167;01mKeyError\u001b[39;00m(\u001b[38;5;124mf\u001b[39m\u001b[38;5;124m\"\u001b[39m\u001b[38;5;132;01m{\u001b[39;00mnot_found\u001b[38;5;132;01m}\u001b[39;00m\u001b[38;5;124m not in index\u001b[39m\u001b[38;5;124m\"\u001b[39m)\n",
      "\u001b[1;31mKeyError\u001b[0m: \"None of [Index([ 97018,  97019,  97020,  97021,  97022,  97023,  97024,  97025,  97026,\\n        97027,\\n       ...\\n       121263, 121264, 121265, 121266, 121267, 121268, 121269, 121270, 121271,\\n       121272],\\n      dtype='object', name='datetime', length=24255)] are in the [index]\""
     ]
    }
   ],
   "source": [
    "# 8. Evaluate Forecast Accuracy\n",
    "for model, pred in forecast_results.items():\n",
    "    # Align prediction and test\n",
    "    if isinstance(pred, pd.Series):\n",
    "        y_true = test.loc[pred.index, 'consumption']\n",
    "        y_pred = pred\n",
    "    else:\n",
    "        y_true = test['consumption']\n",
    "        y_pred = pred\n",
    "    mae = mean_absolute_error(y_true, y_pred)\n",
    "    rmse = np.sqrt(mean_squared_error(y_true, y_pred))\n",
    "    print(f'{model} - MAE: {mae:.3f}, RMSE: {rmse:.3f}')\n"
   ]
  },
  {
   "cell_type": "code",
   "execution_count": 9,
   "id": "29ecd377",
   "metadata": {},
   "outputs": [
    {
     "data": {
      "image/png": "[encoded data removed]",
      "text/plain": [
       "<Figure size 1500x500 with 1 Axes>"
      ]
     },
     "metadata": {},
     "output_type": "display_data"
    },
    {
     "name": "stdout",
     "output_type": "stream",
     "text": [
      "No errors encountered.\n"
     ]
    }
   ],
   "source": [
    "# 9. Display Errors and Diagnostics\n",
    "plt.figure(figsize=(15,5))\n",
    "plt.plot(test.index, test['consumption'], label='Actual', color='black')\n",
    "for model, pred in forecast_results.items():\n",
    "    if isinstance(pred, pd.Series):\n",
    "        plt.plot(pred.index, pred, label=model)\n",
    "    else:\n",
    "        plt.plot(test.index, pred, label=model)\n",
    "plt.title('Forecast Comparison')\n",
    "plt.xlabel('Datetime')\n",
    "plt.ylabel('Consumption (MW)')\n",
    "plt.legend()\n",
    "plt.tight_layout()\n",
    "plt.show()\n",
    "\n",
    "if errors:\n",
    "    print('Errors encountered:')\n",
    "    for k, v in errors.items():\n",
    "        print(f'{k}: {v}')\n",
    "else:\n",
    "    print('No errors encountered.')\n"
   ]
  },
  {
   "cell_type": "code",
   "execution_count": null,
   "id": "e1b838f3",
   "metadata": {},
   "outputs": [],
   "source": []
  }
 ],
 "metadata": {
  "kernelspec": {
   "display_name": "cuda_test",
   "language": "python",
   "name": "python3"
  },
  "language_info": {
   "codemirror_mode": {
    "name": "ipython",
    "version": 3
   },
   "file_extension": ".py",
   "mimetype": "text/x-python",
   "name": "python",
   "nbconvert_exporter": "python",
   "pygments_lexer": "ipython3",
   "version": "3.9.21"
  }
 },
 "nbformat": 4,
 "nbformat_minor": 5
}
